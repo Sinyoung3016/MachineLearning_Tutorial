{
  "nbformat": 4,
  "nbformat_minor": 0,
  "metadata": {
    "colab": {
      "name": "ML lab01-02.ipynb",
      "provenance": [],
      "collapsed_sections": []
    },
    "kernelspec": {
      "name": "python3",
      "display_name": "Python 3"
    },
    "accelerator": "GPU"
  },
  "cells": [
    {
      "cell_type": "code",
      "metadata": {
        "id": "7dC1fpISPgO0",
        "colab_type": "code",
        "colab": {}
      },
      "source": [
        "!pip install tensorflow"
      ],
      "execution_count": null,
      "outputs": []
    },
    {
      "cell_type": "code",
      "metadata": {
        "id": "WYN8fs2Cbmf4",
        "colab_type": "code",
        "colab": {}
      },
      "source": [
        "import numpy as np\n",
        "import tensorflow as tf\n",
        "\n",
        "#1.dataSet 설정\n",
        "x_train = [1, 2, 3, 4]\n",
        "y_train = [2, 3, 4, 5]\n",
        "\n",
        "#2.Model 구성\n",
        "tf.model = tf.keras.Sequential()\n",
        "  # units == output shape, input_dim == input shape\n",
        "tf.model.add(tf.keras.layers.Dense(units=1, input_dim=1))\n",
        "\n",
        "#3. Model 학습과정 설정\n",
        "  # SGD == standard gradient descendent, lr == learning rate\n",
        "sgd = tf.keras.optimizers.SGD(lr=0.1) \n",
        "  # mse == mean_squared_error\n",
        "tf.model.compile(loss='mse', optimizer=sgd)\n",
        "  # prints summary of the model to the terminal\n",
        "tf.model.summary()\n",
        "\n",
        "#4. Model 학습\n",
        "  # fit() executes training\n",
        "  # 한 번의 epoch에서 모든 데이터를 한번에 넣을 수 X, \n",
        "  # 몇 번 나누어서 주는가를 iteration, 각 iteration마다 주는 데이터 사이즈를 batch size\n",
        "tf.model.fit(x_train, y_train, epochs = 100)\n",
        "\n",
        "#5. Model 사용하기\n",
        "  # predict() returns predicted value\n",
        "y_predict = tf.model.predict(np.array([5, 4, 3]))\n",
        "print(y_predict)\n",
        "\n"
      ],
      "execution_count": null,
      "outputs": []
    },
    {
      "cell_type": "code",
      "metadata": {
        "id": "z3JgjnHkXzMG",
        "colab_type": "code",
        "colab": {}
      },
      "source": [
        "##Version01\n",
        "import tensorflow.compat.v1 as tf\n",
        "tf.disable_v2_behavior()"
      ],
      "execution_count": null,
      "outputs": []
    },
    {
      "cell_type": "code",
      "metadata": {
        "id": "39YfPZS6Q5tc",
        "colab_type": "code",
        "colab": {}
      },
      "source": [
        "#Print HelloWorld\n",
        "\n",
        "hello = tf.constant(\"Hello, TensorFlow!\")\n",
        "sess = tf.Session()\n",
        "print(sess.run(hello))"
      ],
      "execution_count": null,
      "outputs": []
    },
    {
      "cell_type": "code",
      "metadata": {
        "id": "BjYcZ5Rzbtm9",
        "colab_type": "code",
        "colab": {}
      },
      "source": [
        "##Compare print Node and print sess.run()\n",
        "\n",
        "node1 = tf.constant(3.0, tf.float32)\n",
        "node2 = tf.constant(4.0)\n",
        "node3 = tf.add(node1, node2)\n",
        "\n",
        "print(\"node1:\" ,node1, \"node2:\", node2)\n",
        "print(\"node3:\", node3)\n",
        "\n",
        "sess = tf.Session()\n",
        "print(\"sess.run(node1, node2):\", sess.run([node1, node2]))\n",
        "print(\"sess.run(node3):\" , sess.run(node3))"
      ],
      "execution_count": null,
      "outputs": []
    },
    {
      "cell_type": "code",
      "metadata": {
        "id": "8Ic84cpdehIj",
        "colab_type": "code",
        "colab": {}
      },
      "source": [
        "##Using PlaceHolder\n",
        "\n",
        "a = tf.placeholder(tf.float32)\n",
        "b = tf.placeholder(tf.float32)\n",
        "adder_node = a + b;#tf.add(a,b)\n",
        "\n",
        "print(sess.run(adder_node, feed_dict={a:3, b:4.5}))\n",
        "print(sess.run(adder_node, feed_dict={a:[1, 3], b:[4, 5]}))"
      ],
      "execution_count": null,
      "outputs": []
    },
    {
      "cell_type": "code",
      "metadata": {
        "id": "gaQugHNpfg25",
        "colab_type": "code",
        "colab": {}
      },
      "source": [
        "##Learning\n",
        "\n",
        "x_train = [1, 2, 3]\n",
        "y_train = [1 ,2 ,3] \n",
        "W = tf.Variable(tf.random_normal([1]), name = 'w')#tensoflow가 학습하며 사용하는 변수, trainable variable임\n",
        "b = tf.Variable(tf.random_normal([1]), name = 'b')\n",
        "\n",
        "hypothesis = x_train * W + b\n",
        "\n",
        "cost = tf.reduce_mean(tf.square(hypothesis - y_train))\n",
        "optimizer = tf.train.GradientDescentOptimizer(learning_rate = 0.01)\n",
        "train = optimizer.minimize(cost)\n",
        "\n",
        "sess = tf.Session()\n",
        "sess.run(tf.global_variables_initializer())#위의 변수들을 초기화\n",
        "\n",
        "for step in range(2001):\n",
        "  sess.run(train)\n",
        "  if step % 20 == 0:\n",
        "    print(step, sess.run(cost), sess.run(W), sess.run(b))\n",
        "    "
      ],
      "execution_count": null,
      "outputs": []
    },
    {
      "cell_type": "code",
      "metadata": {
        "id": "08knMz6vzl9O",
        "colab_type": "code",
        "colab": {}
      },
      "source": [
        "##Learning with placeholder\n",
        "\n",
        "W = tf.Variable(tf.random_normal([1]), name ='w')\n",
        "b = tf.Variable(tf.random_normal([1]), name = 'b')\n",
        "X = tf.placeholder(tf.float32, shape = [None])\n",
        "Y = tf.placeholder(tf.float32, shape = [None])\n",
        "\n",
        "hypothesis = X * W + b\n",
        "\n",
        "cost = tf.reduce_mean(tf.square(hypothesis - Y))\n",
        "optimizer = tf.train.GradientDescentOptimizer(learning_rate = 0.01)\n",
        "train = optimizer.minimize(cost)\n",
        "\n",
        "sess = tf.Session()\n",
        "sess.run(tf.global_variables_initializer())\n",
        "\n",
        "for step in range(2001):\n",
        "  cost_val, W_val, b_val, _ = sess.run([cost, W, b, train], feed_dict = {X:[1, 2, 3, 4, 5], Y:[2.1, 3.1, 4.1, 5.1, 6.1]})\n",
        "  if step%20 == 0:\n",
        "    print(step, cost_val, W_val, b_val, _)\n",
        "    "
      ],
      "execution_count": null,
      "outputs": []
    },
    {
      "cell_type": "code",
      "metadata": {
        "id": "a7lZ-7aLH-Z9",
        "colab_type": "code",
        "colab": {}
      },
      "source": [
        ""
      ],
      "execution_count": null,
      "outputs": []
    },
    {
      "cell_type": "code",
      "metadata": {
        "id": "_XrpG9Sl4mUv",
        "colab_type": "code",
        "colab": {
          "base_uri": "https://localhost:8080/",
          "height": 70
        },
        "outputId": "985bf0d9-d26b-48c6-c574-fd90fd8c1f69"
      },
      "source": [
        "print(sess.run(hypothesis, feed_dict = {X:[5]}))\n",
        "print(sess.run(hypothesis, feed_dict = {X:[2.5]}))\n",
        "print(sess.run(hypothesis, feed_dict = {X:[1.5, 3.5]}))"
      ],
      "execution_count": null,
      "outputs": [
        {
          "output_type": "stream",
          "text": [
            "[6.0995784]\n",
            "[3.600337]\n",
            "[2.6006403 4.6000333]\n"
          ],
          "name": "stdout"
        }
      ]
    }
  ]
}