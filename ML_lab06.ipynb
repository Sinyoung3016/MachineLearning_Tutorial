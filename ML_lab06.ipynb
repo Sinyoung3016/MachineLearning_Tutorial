{
  "nbformat": 4,
  "nbformat_minor": 0,
  "metadata": {
    "colab": {
      "name": "ML_lab06.ipynb",
      "provenance": [],
      "collapsed_sections": [],
      "authorship_tag": "ABX9TyP2WkxkXdGjTd4ftQe+EG+r",
      "include_colab_link": true
    },
    "kernelspec": {
      "name": "python3",
      "display_name": "Python 3"
    }
  },
  "cells": [
    {
      "cell_type": "markdown",
      "metadata": {
        "id": "view-in-github",
        "colab_type": "text"
      },
      "source": [
        "<a href=\"https://colab.research.google.com/github/Sinyoung3016/MachineLearning_Tutorial/blob/master/ML_lab06.ipynb\" target=\"_parent\"><img src=\"https://colab.research.google.com/assets/colab-badge.svg\" alt=\"Open In Colab\"/></a>"
      ]
    },
    {
      "cell_type": "code",
      "metadata": {
        "id": "g6Y313MasJGr",
        "colab_type": "code",
        "colab": {}
      },
      "source": [
        "## multinominal classification\n",
        "import tensorflow as tf\n",
        "import numpy as np\n",
        "\n",
        "#1.dataSet 설정\n",
        "x_raw = [[1, 2, 1, 1],\n",
        "         [2, 1, 3, 2],\n",
        "         [3, 1, 3, 4],\n",
        "         [4, 1, 5, 5],\n",
        "         [1, 7, 5, 5],\n",
        "         [1, 2, 5, 6],\n",
        "         [1, 6, 6, 6],\n",
        "         [1, 7, 7, 7]]\n",
        "y_raw = [[0, 0, 1],\n",
        "         [0, 0, 1],\n",
        "         [0, 0, 1],\n",
        "         [0, 1, 0],\n",
        "         [0, 1, 0],\n",
        "         [0, 1, 0],\n",
        "         [1, 0, 0],\n",
        "         [1, 0, 0]]\n",
        "         #One Hot Encoding\n",
        "\n",
        "x_data = np.array(x_raw, dtype=np.float32)\n",
        "y_data = np.array(y_raw, dtype=np.float32)\n",
        "\n",
        "nb_classes = 3\n",
        "\n",
        "#2. Model 구성\n",
        "tf.model = tf.keras.Sequential()\n",
        "tf.model.add(tf.keras.layers.Dense(input_dim=4, units=nb_classes, use_bias=True))\n",
        "  # use softmax activations: softmax = exp(logits) / reduce_sum(exp(logits), dim)\n",
        "tf.model.add(tf.keras.layers.Activation('softmax'))\n",
        "\n",
        "#3. Model 학습과정 설정\n",
        "# use loss == categorical_crossentropy\n",
        "tf.model.compile(loss='categorical_crossentropy', optimizer=tf.keras.optimizers.SGD(lr=0.1), metrics=['accuracy'])\n",
        "\n",
        "#4. Model 출력\n",
        "tf.model.summary()\n",
        "\n",
        "#5. Model 학습\n",
        "history = tf.model.fit(x_data, y_data, epochs=1000)\n",
        "\n",
        "#6. Model 사용\n",
        "print('--------------')\n",
        "#출력 : One-hot encoding\n",
        "# argmax : array에서 가장 큰값을 출력\n",
        "a = tf.model.predict(np.array([[1, 11, 7, 9]]))\n",
        "print(a, tf.keras.backend.eval(tf.argmax(a, axis=1)))\n",
        "\n",
        "print('--------------')\n",
        "# or use argmax embedded method, predict_classes\n",
        "c = tf.model.predict(np.array([[1, 1, 0, 1]]))\n",
        "c_onehot = tf.model.predict_classes(np.array([[1, 1, 0, 1]]))\n",
        "print(c, c_onehot)\n",
        "\n",
        "print('--------------')\n",
        "all = tf.model.predict(np.array([[1, 11, 7, 9], [1, 3, 4, 3], [1, 1, 0, 1]]))\n",
        "all_onehot = tf.model.predict_classes(np.array([[1, 11, 7, 9], [1, 3, 4, 3], [1, 1, 0, 1]]))\n",
        "print(all, all_onehot)\n"
      ],
      "execution_count": null,
      "outputs": []
    }
  ]
}